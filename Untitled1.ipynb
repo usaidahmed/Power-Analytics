{
 "cells": [
  {
   "cell_type": "code",
   "execution_count": 1,
   "id": "77838580",
   "metadata": {},
   "outputs": [],
   "source": [
    "import pandas as pd\n",
    "import numpy as np"
   ]
  },
  {
   "cell_type": "code",
   "execution_count": 2,
   "id": "8b42343a",
   "metadata": {},
   "outputs": [],
   "source": [
    "df  = pd.read_csv(\"combined.csv\", header = 0, sep = \",\")"
   ]
  },
  {
   "cell_type": "code",
   "execution_count": 8,
   "id": "c67527e8",
   "metadata": {},
   "outputs": [],
   "source": [
    "z = df.replace(to_replace=0, method= \"ffill\")"
   ]
  },
  {
   "cell_type": "code",
   "execution_count": 9,
   "id": "cb5162c3",
   "metadata": {},
   "outputs": [],
   "source": [
    "z.to_csv(\"Sorted_data.csv\")"
   ]
  },
  {
   "cell_type": "code",
   "execution_count": 16,
   "id": "5d8de78c",
   "metadata": {},
   "outputs": [],
   "source": [
    "import csv\n",
    "import json\n",
    " \n",
    "# Function to convert a CSV to JSON\n",
    "# Takes the file paths as arguments\n",
    "def make_json(csvFilePath, jsonFilePath):\n",
    "     \n",
    "    # create a dictionary\n",
    "    data = {}\n",
    "     \n",
    "    # Open a csv reader called DictReader\n",
    "    with open(csvFilePath, encoding='utf-8') as csvf:\n",
    "        csvReader = csv.DictReader(csvf)\n",
    "         \n",
    "        # Convert each row into a dictionary\n",
    "        # and add it to data\n",
    "        for rows in csvReader:\n",
    "             \n",
    "            # Assuming a column named 'No' to\n",
    "            # be the primary key\n",
    "            key = rows['Date']\n",
    "            data[key] = rows\n",
    " \n",
    "    # Open a json writer, and use the json.dumps()\n",
    "    # function to dump data\n",
    "    with open(jsonFilePath, 'w', encoding='utf-8') as jsonf:\n",
    "        jsonf.write(json.dumps(data, indent=4))\n",
    "         \n",
    "# Driver Code\n",
    " \n",
    "# Decide the two file paths according to your\n",
    "# computer system\n",
    "csvFilePath = r'Sorted_data.csv'\n",
    "jsonFilePath = r'sorted_data.json'\n",
    " \n",
    "# Call the make_json function\n",
    "make_json(csvFilePath, jsonFilePath)"
   ]
  },
  {
   "cell_type": "code",
   "execution_count": 24,
   "id": "ef1326ff",
   "metadata": {},
   "outputs": [
    {
     "data": {
      "text/html": [
       "<div>\n",
       "<style scoped>\n",
       "    .dataframe tbody tr th:only-of-type {\n",
       "        vertical-align: middle;\n",
       "    }\n",
       "\n",
       "    .dataframe tbody tr th {\n",
       "        vertical-align: top;\n",
       "    }\n",
       "\n",
       "    .dataframe thead th {\n",
       "        text-align: right;\n",
       "    }\n",
       "</style>\n",
       "<table border=\"1\" class=\"dataframe\">\n",
       "  <thead>\n",
       "    <tr style=\"text-align: right;\">\n",
       "      <th></th>\n",
       "      <th>2019-05-09</th>\n",
       "      <th>2019-05-10</th>\n",
       "      <th>2019-05-11</th>\n",
       "      <th>2019-05-12</th>\n",
       "      <th>2019-05-13</th>\n",
       "      <th>2019-05-14</th>\n",
       "      <th>2019-05-15</th>\n",
       "      <th>2019-05-16</th>\n",
       "      <th>2019-05-17</th>\n",
       "      <th>2019-05-18</th>\n",
       "      <th>...</th>\n",
       "      <th>2021-08-02</th>\n",
       "      <th>2021-08-03</th>\n",
       "      <th>2021-08-04</th>\n",
       "      <th>2021-08-05</th>\n",
       "      <th>2021-08-06</th>\n",
       "      <th>2021-08-07</th>\n",
       "      <th>2021-08-08</th>\n",
       "      <th>2021-08-09</th>\n",
       "      <th>2021-08-10</th>\n",
       "      <th>2021-08-11</th>\n",
       "    </tr>\n",
       "  </thead>\n",
       "  <tbody>\n",
       "    <tr>\n",
       "      <th></th>\n",
       "      <td>0</td>\n",
       "      <td>1</td>\n",
       "      <td>2</td>\n",
       "      <td>3</td>\n",
       "      <td>4</td>\n",
       "      <td>5</td>\n",
       "      <td>6</td>\n",
       "      <td>7</td>\n",
       "      <td>8</td>\n",
       "      <td>9</td>\n",
       "      <td>...</td>\n",
       "      <td>508</td>\n",
       "      <td>509</td>\n",
       "      <td>510</td>\n",
       "      <td>511</td>\n",
       "      <td>512</td>\n",
       "      <td>513</td>\n",
       "      <td>514</td>\n",
       "      <td>515</td>\n",
       "      <td>516</td>\n",
       "      <td>517</td>\n",
       "    </tr>\n",
       "    <tr>\n",
       "      <th>Date</th>\n",
       "      <td>5/9/2019</td>\n",
       "      <td>5/10/2019</td>\n",
       "      <td>5/11/2019</td>\n",
       "      <td>5/12/2019</td>\n",
       "      <td>5/13/2019</td>\n",
       "      <td>5/14/2019</td>\n",
       "      <td>5/15/2019</td>\n",
       "      <td>5/16/2019</td>\n",
       "      <td>5/17/2019</td>\n",
       "      <td>5/18/2019</td>\n",
       "      <td>...</td>\n",
       "      <td>8/2/2021</td>\n",
       "      <td>8/3/2021</td>\n",
       "      <td>8/4/2021</td>\n",
       "      <td>8/5/2021</td>\n",
       "      <td>8/6/2021</td>\n",
       "      <td>8/7/2021</td>\n",
       "      <td>8/8/2021</td>\n",
       "      <td>8/9/2021</td>\n",
       "      <td>8/10/2021</td>\n",
       "      <td>8/11/2021</td>\n",
       "    </tr>\n",
       "    <tr>\n",
       "      <th>Average Power</th>\n",
       "      <td>7033.029836</td>\n",
       "      <td>8907.537979</td>\n",
       "      <td>8494.311218</td>\n",
       "      <td>8334.529214</td>\n",
       "      <td>9768.640628</td>\n",
       "      <td>9252.739436</td>\n",
       "      <td>9380.184001</td>\n",
       "      <td>9178.266477</td>\n",
       "      <td>9135.478948</td>\n",
       "      <td>8554.121619</td>\n",
       "      <td>...</td>\n",
       "      <td>10036.48061</td>\n",
       "      <td>10205.2868</td>\n",
       "      <td>10264.91019</td>\n",
       "      <td>10247.02182</td>\n",
       "      <td>10107.28188</td>\n",
       "      <td>9973.300021</td>\n",
       "      <td>10329.55865</td>\n",
       "      <td>10521.92573</td>\n",
       "      <td>10245.76309</td>\n",
       "      <td>10118.50111</td>\n",
       "    </tr>\n",
       "    <tr>\n",
       "      <th>Maximum Power</th>\n",
       "      <td>7229.55</td>\n",
       "      <td>16202.88</td>\n",
       "      <td>11784.66</td>\n",
       "      <td>11616.09</td>\n",
       "      <td>16617.72</td>\n",
       "      <td>14194.65</td>\n",
       "      <td>15648.11</td>\n",
       "      <td>15473.66</td>\n",
       "      <td>16271.9</td>\n",
       "      <td>11365.95</td>\n",
       "      <td>...</td>\n",
       "      <td>12148.21</td>\n",
       "      <td>12774.14</td>\n",
       "      <td>12930.74</td>\n",
       "      <td>12969.94</td>\n",
       "      <td>13957.74</td>\n",
       "      <td>11543.52</td>\n",
       "      <td>11903.63</td>\n",
       "      <td>13405.38</td>\n",
       "      <td>13013.25</td>\n",
       "      <td>12582.46</td>\n",
       "    </tr>\n",
       "    <tr>\n",
       "      <th>Minimum Power</th>\n",
       "      <td>6866.99</td>\n",
       "      <td>6866.99</td>\n",
       "      <td>6833.81</td>\n",
       "      <td>5440.37</td>\n",
       "      <td>6950.04</td>\n",
       "      <td>4713.3</td>\n",
       "      <td>6017.52</td>\n",
       "      <td>5628.43</td>\n",
       "      <td>5665.49</td>\n",
       "      <td>5344.12</td>\n",
       "      <td>...</td>\n",
       "      <td>3279.42</td>\n",
       "      <td>7232.27</td>\n",
       "      <td>7707.81</td>\n",
       "      <td>7267.0</td>\n",
       "      <td>7207.07</td>\n",
       "      <td>7650.67</td>\n",
       "      <td>5454.36</td>\n",
       "      <td>6169.26</td>\n",
       "      <td>4391.85</td>\n",
       "      <td>8922.92</td>\n",
       "    </tr>\n",
       "    <tr>\n",
       "      <th>Total Energy Consumed</th>\n",
       "      <td>1287044.46</td>\n",
       "      <td>25431020.93</td>\n",
       "      <td>23919980.39</td>\n",
       "      <td>23853422.61</td>\n",
       "      <td>28016461.32</td>\n",
       "      <td>26435076.57</td>\n",
       "      <td>26817946.06</td>\n",
       "      <td>26231485.59</td>\n",
       "      <td>26136605.27</td>\n",
       "      <td>24567437.29</td>\n",
       "      <td>...</td>\n",
       "      <td>28905064.16</td>\n",
       "      <td>29391225.97</td>\n",
       "      <td>29491086.97</td>\n",
       "      <td>29511422.84</td>\n",
       "      <td>29108971.81</td>\n",
       "      <td>28723104.06</td>\n",
       "      <td>29749128.9</td>\n",
       "      <td>30292624.19</td>\n",
       "      <td>29507797.69</td>\n",
       "      <td>17383584.9</td>\n",
       "    </tr>\n",
       "  </tbody>\n",
       "</table>\n",
       "<p>6 rows × 518 columns</p>\n",
       "</div>"
      ],
      "text/plain": [
       "                        2019-05-09   2019-05-10   2019-05-11   2019-05-12  \\\n",
       "                                 0            1            2            3   \n",
       "Date                      5/9/2019    5/10/2019    5/11/2019    5/12/2019   \n",
       "Average Power          7033.029836  8907.537979  8494.311218  8334.529214   \n",
       "Maximum Power              7229.55     16202.88     11784.66     11616.09   \n",
       "Minimum Power              6866.99      6866.99      6833.81      5440.37   \n",
       "Total Energy Consumed   1287044.46  25431020.93  23919980.39  23853422.61   \n",
       "\n",
       "                        2019-05-13   2019-05-14   2019-05-15   2019-05-16  \\\n",
       "                                 4            5            6            7   \n",
       "Date                     5/13/2019    5/14/2019    5/15/2019    5/16/2019   \n",
       "Average Power          9768.640628  9252.739436  9380.184001  9178.266477   \n",
       "Maximum Power             16617.72     14194.65     15648.11     15473.66   \n",
       "Minimum Power              6950.04       4713.3      6017.52      5628.43   \n",
       "Total Energy Consumed  28016461.32  26435076.57  26817946.06  26231485.59   \n",
       "\n",
       "                        2019-05-17   2019-05-18  ...   2021-08-02  \\\n",
       "                                 8            9  ...          508   \n",
       "Date                     5/17/2019    5/18/2019  ...     8/2/2021   \n",
       "Average Power          9135.478948  8554.121619  ...  10036.48061   \n",
       "Maximum Power              16271.9     11365.95  ...     12148.21   \n",
       "Minimum Power              5665.49      5344.12  ...      3279.42   \n",
       "Total Energy Consumed  26136605.27  24567437.29  ...  28905064.16   \n",
       "\n",
       "                        2021-08-03   2021-08-04   2021-08-05   2021-08-06  \\\n",
       "                               509          510          511          512   \n",
       "Date                      8/3/2021     8/4/2021     8/5/2021     8/6/2021   \n",
       "Average Power           10205.2868  10264.91019  10247.02182  10107.28188   \n",
       "Maximum Power             12774.14     12930.74     12969.94     13957.74   \n",
       "Minimum Power              7232.27      7707.81       7267.0      7207.07   \n",
       "Total Energy Consumed  29391225.97  29491086.97  29511422.84  29108971.81   \n",
       "\n",
       "                        2021-08-07   2021-08-08   2021-08-09   2021-08-10  \\\n",
       "                               513          514          515          516   \n",
       "Date                      8/7/2021     8/8/2021     8/9/2021    8/10/2021   \n",
       "Average Power          9973.300021  10329.55865  10521.92573  10245.76309   \n",
       "Maximum Power             11543.52     11903.63     13405.38     13013.25   \n",
       "Minimum Power              7650.67      5454.36      6169.26      4391.85   \n",
       "Total Energy Consumed  28723104.06   29749128.9  30292624.19  29507797.69   \n",
       "\n",
       "                        2021-08-11  \n",
       "                               517  \n",
       "Date                     8/11/2021  \n",
       "Average Power          10118.50111  \n",
       "Maximum Power             12582.46  \n",
       "Minimum Power              8922.92  \n",
       "Total Energy Consumed   17383584.9  \n",
       "\n",
       "[6 rows x 518 columns]"
      ]
     },
     "execution_count": 24,
     "metadata": {},
     "output_type": "execute_result"
    }
   ],
   "source": [
    "v = pd.read_json(\"sorted_data.json\")\n",
    "v"
   ]
  },
  {
   "cell_type": "code",
   "execution_count": 20,
   "id": "2746a99c",
   "metadata": {},
   "outputs": [
    {
     "name": "stdout",
     "output_type": "stream",
     "text": [
      "<_io.TextIOWrapper name='sorted_data.json' mode='r' encoding='utf-8'>\n"
     ]
    }
   ],
   "source": [
    "import json\n",
    "\n",
    "f = open(\"sorted_data.json\", encoding = 'utf-8')\n",
    "print(f)"
   ]
  },
  {
   "cell_type": "code",
   "execution_count": 32,
   "id": "c87e333b",
   "metadata": {},
   "outputs": [],
   "source": [
    "df  = pd.read_csv(\"combined.csv\", header = 0, sep = \",\")"
   ]
  },
  {
   "cell_type": "code",
   "execution_count": 34,
   "id": "cb51807f",
   "metadata": {},
   "outputs": [
    {
     "data": {
      "text/plain": [
       "0      6866.99\n",
       "1          NaN\n",
       "2      6833.81\n",
       "3      5440.37\n",
       "4      6950.04\n",
       "        ...   \n",
       "513    7650.67\n",
       "514    5454.36\n",
       "515    6169.26\n",
       "516    4391.85\n",
       "517    8922.92\n",
       "Name: Minimum Power, Length: 518, dtype: float64"
      ]
     },
     "execution_count": 34,
     "metadata": {},
     "output_type": "execute_result"
    }
   ],
   "source": [
    "s = df[\"Minimum Power\"]\n",
    "s.where(s > 0)"
   ]
  },
  {
   "cell_type": "code",
   "execution_count": 52,
   "id": "f7c2c34e",
   "metadata": {},
   "outputs": [
    {
     "data": {
      "text/plain": [
       "0      6866.99\n",
       "1      5628.43\n",
       "2      6833.81\n",
       "3      5440.37\n",
       "4      6950.04\n",
       "        ...   \n",
       "513    7650.67\n",
       "514    5454.36\n",
       "515    6169.26\n",
       "516    4391.85\n",
       "517    8922.92\n",
       "Name: Minimum Power, Length: 518, dtype: float64"
      ]
     },
     "execution_count": 52,
     "metadata": {},
     "output_type": "execute_result"
    }
   ],
   "source": [
    "a = s.replace(0, value = df['Minimum Power'][7])\n",
    "a"
   ]
  },
  {
   "cell_type": "code",
   "execution_count": 59,
   "id": "9cc8a3aa",
   "metadata": {},
   "outputs": [
    {
     "name": "stdout",
     "output_type": "stream",
     "text": [
      "1\n"
     ]
    }
   ],
   "source": [
    "for i in df['Minimum Power']:\n",
    "    i = s.replace(0, value = df['Minimum Power'][7]  "
   ]
  },
  {
   "cell_type": "code",
   "execution_count": 10,
   "id": "9e3d804e",
   "metadata": {},
   "outputs": [],
   "source": [
    "# x['Minimum Power'].replace(to_replace=0,method = \"ffill\")"
   ]
  },
  {
   "cell_type": "code",
   "execution_count": 11,
   "id": "f1dc13c1",
   "metadata": {},
   "outputs": [],
   "source": [
    "# x['Maximum Power'].replace(to_replace=0,method = \"ffill\")"
   ]
  },
  {
   "cell_type": "code",
   "execution_count": 12,
   "id": "c1f2a7f5",
   "metadata": {},
   "outputs": [],
   "source": [
    "#x[\"Average Power\"].replace(to_replace=0, method = \"ffill\")"
   ]
  },
  {
   "cell_type": "code",
   "execution_count": 14,
   "id": "f18bbc04",
   "metadata": {},
   "outputs": [],
   "source": [
    "# x['Total Energy Consumed'].replace(to_replace=0,method = \"ffill\")"
   ]
  },
  {
   "cell_type": "code",
   "execution_count": null,
   "id": "f2f450a4",
   "metadata": {},
   "outputs": [],
   "source": [
    "#x"
   ]
  },
  {
   "cell_type": "code",
   "execution_count": null,
   "id": "51e8618c",
   "metadata": {},
   "outputs": [],
   "source": [
    "#z.to_csv(\"Sorted_data.csv\")"
   ]
  },
  {
   "cell_type": "code",
   "execution_count": null,
   "id": "76a61ccd",
   "metadata": {},
   "outputs": [],
   "source": [
    "# df[\"Minimum Power\"] == 0\n",
    "# df.replace(0,)"
   ]
  },
  {
   "cell_type": "code",
   "execution_count": null,
   "id": "a0143797",
   "metadata": {},
   "outputs": [],
   "source": [
    "# for i in df[\"Minimum Power\"]:\n",
    "#     for j in df[\"Date\"]:\n",
    "#         i = (df[\"Minimum Power\"] == 0)\n",
    "#         print(i,j)"
   ]
  },
  {
   "cell_type": "code",
   "execution_count": null,
   "id": "456a0914",
   "metadata": {},
   "outputs": [],
   "source": [
    "# df.all()\n",
    "# #(df == 0).all(axis = 1)"
   ]
  },
  {
   "cell_type": "code",
   "execution_count": null,
   "id": "f21a1a87",
   "metadata": {},
   "outputs": [],
   "source": [
    "# for i in df[\"Average Power\"]:\n",
    "#     i = (df[\"Average Power\"] == 0).all()\n",
    "#     for j in df[\"Date\"]:\n",
    "#         print(i,j)"
   ]
  },
  {
   "cell_type": "code",
   "execution_count": null,
   "id": "1ce86905",
   "metadata": {},
   "outputs": [],
   "source": [
    "# for i in df[\"Maximum Power\"]:\n",
    "#     i = (df[\"Maximum Power\"] == 0).all()\n",
    "#     for j in df[\"Date\"]:\n",
    "#         print(i,j)"
   ]
  },
  {
   "cell_type": "code",
   "execution_count": null,
   "id": "ff43bf98",
   "metadata": {},
   "outputs": [],
   "source": [
    "# for i in df[\"Minimum Power\"]:\n",
    "#     i = (df[\"Minimum Power\"] == 0).all()\n",
    "#     for j in df[\"Date\"]:\n",
    "#         print(i,j)"
   ]
  },
  {
   "cell_type": "code",
   "execution_count": null,
   "id": "609c4c23",
   "metadata": {},
   "outputs": [],
   "source": [
    "# for i in df[\"Total Energy Consumed\"]:\n",
    "#     i = (df[\"Total Energy Consumed\"] == 0).all()\n",
    "#     for j in df[\"Date\"]:\n",
    "#         print(i,j)"
   ]
  },
  {
   "cell_type": "code",
   "execution_count": null,
   "id": "ec2360cc",
   "metadata": {},
   "outputs": [],
   "source": [
    "# x = pd.read_csv(\"grafana_2020.csv\", header = 0 ,sep = \",\" )\n",
    "# x"
   ]
  },
  {
   "cell_type": "code",
   "execution_count": null,
   "id": "71c50240",
   "metadata": {},
   "outputs": [],
   "source": []
  },
  {
   "cell_type": "code",
   "execution_count": null,
   "id": "f303e66d",
   "metadata": {},
   "outputs": [],
   "source": []
  },
  {
   "cell_type": "code",
   "execution_count": null,
   "id": "23655bb3",
   "metadata": {},
   "outputs": [],
   "source": []
  },
  {
   "cell_type": "code",
   "execution_count": null,
   "id": "24f3893a",
   "metadata": {},
   "outputs": [],
   "source": []
  },
  {
   "cell_type": "code",
   "execution_count": null,
   "id": "7db2e474",
   "metadata": {},
   "outputs": [],
   "source": []
  },
  {
   "cell_type": "code",
   "execution_count": null,
   "id": "4d740972",
   "metadata": {},
   "outputs": [],
   "source": [
    "# x.all()"
   ]
  },
  {
   "cell_type": "code",
   "execution_count": null,
   "id": "248b5875",
   "metadata": {},
   "outputs": [],
   "source": [
    "# y = pd.read_csv(\"grafana_sorted_2021.csv\", header = 0 ,sep = \",\" )\n",
    "# y"
   ]
  },
  {
   "cell_type": "code",
   "execution_count": null,
   "id": "0807e0d8",
   "metadata": {},
   "outputs": [],
   "source": [
    "# y.all()"
   ]
  },
  {
   "cell_type": "code",
   "execution_count": null,
   "id": "2f5dad70",
   "metadata": {},
   "outputs": [],
   "source": [
    "# for i in y[\"Power\"]:\n",
    "#     i = (y[\"Power\"] == 0).all()\n",
    "#     for j in y[\"Time\"]:\n",
    "#         print(i,j)\n",
    "#         #i = (y[\"Power\"] == 0).all()\n",
    "#     #print( j)"
   ]
  },
  {
   "cell_type": "code",
   "execution_count": null,
   "id": "7f6dab8e",
   "metadata": {},
   "outputs": [],
   "source": [
    "# (y['Power'] == 0).all()"
   ]
  },
  {
   "cell_type": "code",
   "execution_count": null,
   "id": "3f9aa710",
   "metadata": {},
   "outputs": [],
   "source": [
    "# (y[\"Power\"] == 0).sum()"
   ]
  },
  {
   "cell_type": "code",
   "execution_count": null,
   "id": "c9f02d3c",
   "metadata": {},
   "outputs": [],
   "source": [
    "# for col in df.columns:\n",
    "#     val = df[col].mean()\n",
    "#     df[col] = df[col].replace(0, val)"
   ]
  }
 ],
 "metadata": {
  "kernelspec": {
   "display_name": "Python 3",
   "language": "python",
   "name": "python3"
  },
  "language_info": {
   "codemirror_mode": {
    "name": "ipython",
    "version": 3
   },
   "file_extension": ".py",
   "mimetype": "text/x-python",
   "name": "python",
   "nbconvert_exporter": "python",
   "pygments_lexer": "ipython3",
   "version": "3.8.8"
  }
 },
 "nbformat": 4,
 "nbformat_minor": 5
}
